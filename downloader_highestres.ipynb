import pytube
from pytube import YouTube
a = input()
video = YouTube(a)
stream = video.streams.get_highest_resolution()
stream.download()
